{
 "cells": [
  {
   "cell_type": "code",
   "execution_count": null,
   "id": "572393af-822b-4234-995d-5468d718ff72",
   "metadata": {},
   "outputs": [],
   "source": [
    "import os\n",
    "import uuid, re\n",
    "\n",
    "from paddleocr import PaddleOCR\n",
    "import albumentations as A\n",
    "import cv2\n",
    "import numpy as np\n",
    "import pandas as pd\n",
    "from PIL import Image\n"
   ]
  },
  {
   "cell_type": "code",
   "execution_count": null,
   "id": "d08c722a",
   "metadata": {},
   "outputs": [],
   "source": [
    "## Image Pre-processing\n",
    "transform = A.Compose([\n",
    "    #A.Resize(height = 512, width = 512),\n",
    "    A.RandomResizedCrop(p=1, height= 820 ,width= 820, scale=(0.4, 0.75),ratio=(0.40, 1.10)),\n",
    "    A.RandomBrightnessContrast(always_apply=True, p=1.0, brightness_limit=(0, 0.3), contrast_limit=(-0.2, 0.3), brightness_by_max=False),\n",
    "    A.SafeRotate(always_apply=False, p=0.5, limit=(-10, 30), interpolation=1, border_mode=0, value=None, mask_value=None),\n",
    "    A.CLAHE(always_apply=False, p=0.5, clip_limit=(1, 15), tile_grid_size=(8, 8)),\n",
    "    #A.HorizontalFlip(always_apply=False, p=0.5),\n",
    "    A.CenterCrop(always_apply=True, p=1, height=512, width=512)\n",
    "    #A.pytorch.transforms.ToTensorV2()\n",
    "])\n",
    "transform_o = A.Compose([\n",
    "    A.Resize(height = 400, width = 256)\n",
    "])"
   ]
  },
  {
   "cell_type": "code",
   "execution_count": null,
   "id": "3db8826e",
   "metadata": {},
   "outputs": [],
   "source": [
    "# 난수, 경로 파라미터\n",
    "unique_filename = str(uuid.uuid4())\n",
    "img_path = ''\n",
    "save_path = ''\n",
    "max_text_length= 2\n",
    "drop_score = 0.9"
   ]
  },
  {
   "cell_type": "code",
   "execution_count": null,
   "id": "91033a4b",
   "metadata": {},
   "outputs": [],
   "source": [
    "# 이미지 전처리\n",
    "im_bgr = cv2.imread(img_path)\n",
    "img = im_bgr[:, :, ::-1]\n",
    "preprocessed_img = transform(image=img)[\"image\"]\n"
   ]
  },
  {
   "cell_type": "code",
   "execution_count": null,
   "id": "c22ba534",
   "metadata": {},
   "outputs": [],
   "source": [
    "# 전처리한 이미지 저장\n",
    "img_array = Image.fromarray(preprocessed_img.astype(np.uint8))\n",
    "file_name = f\"{unique_filename}_preprocessed.jpg\"\n",
    "img_array.save(os.path.join(save_path,file_name))"
   ]
  },
  {
   "cell_type": "code",
   "execution_count": null,
   "id": "a4d3a5e7",
   "metadata": {},
   "outputs": [],
   "source": [
    "# PaddleOCR 객체 모델 선언\n",
    "ocr = PaddleOCR(lang='korean', max_text_length=max_text_length, drop_score=drop_score) # need to run only once to download and load model into memory"
   ]
  },
  {
   "cell_type": "code",
   "execution_count": null,
   "id": "801ace6f",
   "metadata": {},
   "outputs": [],
   "source": [
    "# 추론\n",
    "result = ocr.ocr(img_path, cls=False)\n"
   ]
  },
  {
   "cell_type": "code",
   "execution_count": null,
   "id": "a9da803d",
   "metadata": {},
   "outputs": [],
   "source": [
    "texts = []\n",
    "for i in range(len(result[0])):\n",
    "    text = result[0][i][1][0]\n",
    "    texts.append(text)\n",
    "filtered_words = [word for word in texts if re.fullmatch(r'[가-힣]{3,4}', word)]\n",
    "# 리스트를 하나의 문자열로 변환\n",
    "filtered_words = set(filtered_words)\n",
    "combined_string = ' '.join(filtered_words)"
   ]
  },
  {
   "cell_type": "code",
   "execution_count": null,
   "id": "708d6ebd",
   "metadata": {},
   "outputs": [],
   "source": []
  }
 ],
 "metadata": {
  "kernelspec": {
   "display_name": "ocr",
   "language": "python",
   "name": "3pc"
  },
  "language_info": {
   "codemirror_mode": {
    "name": "ipython",
    "version": 3
   },
   "file_extension": ".py",
   "mimetype": "text/x-python",
   "name": "python",
   "nbconvert_exporter": "python",
   "pygments_lexer": "ipython3",
   "version": "3.9.17"
  }
 },
 "nbformat": 4,
 "nbformat_minor": 5
}
